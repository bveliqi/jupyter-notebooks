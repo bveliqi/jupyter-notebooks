{
 "cells": [
  {
   "cell_type": "markdown",
   "metadata": {},
   "source": [
    "# Getting Started [Tensors, Tensor Ops]\n",
    "\n",
    "### Tensors\n",
    "\n",
    "Tensors are similar to NumPy’s ndarrays, with the addition being that Tensors can also be used on a GPU to accelerate computing."
   ]
  },
  {
   "cell_type": "code",
   "execution_count": 1,
   "metadata": {},
   "outputs": [],
   "source": [
    "from __future__ import print_function\n",
    "import torch"
   ]
  },
  {
   "cell_type": "code",
   "execution_count": 4,
   "metadata": {},
   "outputs": [
    {
     "name": "stdout",
     "output_type": "stream",
     "text": [
      "\n",
      " 0.0000e+00 -3.6893e+19 -7.3328e+12\n",
      "-1.0845e-19  2.4036e-31  1.4013e-45\n",
      " 1.0502e-30  1.4013e-45 -7.3217e+12\n",
      " 2.5250e-29 -7.3217e+12  2.8671e-42\n",
      " 7.0253e+28  5.2478e-08  1.0765e+21\n",
      "[torch.FloatTensor of size 5x3]\n",
      "\n"
     ]
    }
   ],
   "source": [
    "# Construct a 5x3 matrix, uninitialized:\n",
    "x = torch.Tensor(5,3)\n",
    "print(x)"
   ]
  },
  {
   "cell_type": "code",
   "execution_count": 6,
   "metadata": {},
   "outputs": [
    {
     "name": "stdout",
     "output_type": "stream",
     "text": [
      "\n",
      " 0.0366  0.3831  0.9550\n",
      " 0.2916  0.3641  0.7396\n",
      " 0.5810  0.5744  0.2958\n",
      " 0.8727  0.1249  0.2689\n",
      " 0.2756  0.2119  0.3589\n",
      "[torch.FloatTensor of size 5x3]\n",
      "\n",
      "torch.Size([5, 3])\n"
     ]
    }
   ],
   "source": [
    "# Construct a randomly initialized matrix:\n",
    "x = torch.rand(5,3)\n",
    "print(x)\n",
    "print(x.size())"
   ]
  },
  {
   "cell_type": "markdown",
   "metadata": {},
   "source": [
    "### Tensor Operations"
   ]
  },
  {
   "cell_type": "code",
   "execution_count": 11,
   "metadata": {},
   "outputs": [
    {
     "name": "stdout",
     "output_type": "stream",
     "text": [
      "\n",
      " 0.5184  0.4406  1.5966\n",
      " 0.3684  0.5518  1.4828\n",
      " 0.6895  1.5543  1.2516\n",
      " 1.0451  0.9797  0.7642\n",
      " 1.2301  0.8926  0.4740\n",
      "[torch.FloatTensor of size 5x3]\n",
      "\n",
      "\n",
      " 0.1865  0.5130  1.6023\n",
      " 0.4660  0.8123  1.1436\n",
      " 0.7178  1.2951  0.3981\n",
      " 1.4415  0.4227  0.9272\n",
      " 0.6417  0.7224  0.4204\n",
      "[torch.FloatTensor of size 5x3]\n",
      "\n",
      "\n",
      " 0.1865  0.5130  1.6023\n",
      " 0.4660  0.8123  1.1436\n",
      " 0.7178  1.2951  0.3981\n",
      " 1.4415  0.4227  0.9272\n",
      " 0.6417  0.7224  0.4204\n",
      "[torch.FloatTensor of size 5x3]\n",
      "\n",
      "\n",
      " 0.1865  0.5130  1.6023\n",
      " 0.4660  0.8123  1.1436\n",
      " 0.7178  1.2951  0.3981\n",
      " 1.4415  0.4227  0.9272\n",
      " 0.6417  0.7224  0.4204\n",
      "[torch.FloatTensor of size 5x3]\n",
      "\n"
     ]
    }
   ],
   "source": [
    "# ADD\n",
    "y = torch.rand(5,3)\n",
    "result = x + y\n",
    "print(result)\n",
    "\n",
    "# alternatively (1)\n",
    "y = torch.rand(5,3)\n",
    "result = torch.add(x, y)\n",
    "print(result)\n",
    "\n",
    "# (2) providing an output tensor as argument\n",
    "result = torch.Tensor(5,3)\n",
    "torch.add(x, y, out=result)\n",
    "print(result)\n",
    "\n",
    "# (3) in-place: Any operation that mutates a tensor in-place is post-fixed with an _. For example: x.copy_(y), x.t_(), will change x.\n",
    "y.add_(x)\n",
    "print(y)\n"
   ]
  },
  {
   "cell_type": "code",
   "execution_count": 15,
   "metadata": {},
   "outputs": [
    {
     "name": "stdout",
     "output_type": "stream",
     "text": [
      "\n",
      " 0.8092\n",
      " 0.2357\n",
      " 0.5252\n",
      " 0.3946\n",
      "[torch.FloatTensor of size 4]\n",
      "\n",
      "torch.Size([4, 4]) torch.Size([16]) torch.Size([2, 8])\n",
      "\n",
      " 0.4770  0.0609  0.0288  0.2852\n",
      " 0.0277  0.0887  0.7229  0.6352\n",
      " 0.0414  0.5441  0.0675  0.1820\n",
      " 0.6233  0.3030  0.7305  0.6415\n",
      "[torch.FloatTensor of size 4x4]\n",
      " \n",
      " 0.4770\n",
      " 0.0609\n",
      " 0.0288\n",
      " 0.2852\n",
      " 0.0277\n",
      " 0.0887\n",
      " 0.7229\n",
      " 0.6352\n",
      " 0.0414\n",
      " 0.5441\n",
      " 0.0675\n",
      " 0.1820\n",
      " 0.6233\n",
      " 0.3030\n",
      " 0.7305\n",
      " 0.6415\n",
      "[torch.FloatTensor of size 16]\n",
      " \n",
      " 0.4770  0.0609  0.0288  0.2852  0.0277  0.0887  0.7229  0.6352\n",
      " 0.0414  0.5441  0.0675  0.1820  0.6233  0.3030  0.7305  0.6415\n",
      "[torch.FloatTensor of size 2x8]\n",
      "\n"
     ]
    }
   ],
   "source": [
    "# Use NumPy like syntax:\n",
    "print(x[:, 1])\n",
    "\n",
    "# resize tensors:\n",
    "x = torch.rand(4,4)\n",
    "y = x.view(16)\n",
    "z = x.view(-1, 8) # the size -1 is inferred from other dimensions\n",
    "print(x.size(), y.size(), z.size())\n",
    "print(x, y, z)\n"
   ]
  },
  {
   "cell_type": "markdown",
   "metadata": {},
   "source": [
    "##### Read later:\n",
    "100+ Tensor operations, including transposing, indexing, slicing, mathematical operations, linear algebra, random numbers, etc., are described here: http://pytorch.org/docs/stable/torch.html."
   ]
  },
  {
   "cell_type": "markdown",
   "metadata": {},
   "source": [
    "### CUDA Tensors\n",
    "\n",
    "Tensors can be moved onto GPU using the `.cuda` method:"
   ]
  },
  {
   "cell_type": "code",
   "execution_count": 17,
   "metadata": {},
   "outputs": [
    {
     "name": "stdout",
     "output_type": "stream",
     "text": [
      "No CUDA available!\n"
     ]
    }
   ],
   "source": [
    "# let us run this cell only if CUDA is available\n",
    "if torch.cuda.is_available():\n",
    "    x = x.cuda()\n",
    "    y = y.cuda()\n",
    "    x + y\n",
    "else:\n",
    "    print(\"No CUDA available!\")"
   ]
  },
  {
   "cell_type": "code",
   "execution_count": null,
   "metadata": {},
   "outputs": [],
   "source": []
  }
 ],
 "metadata": {
  "kernelspec": {
   "display_name": "Python 3",
   "language": "python",
   "name": "python3"
  },
  "language_info": {
   "codemirror_mode": {
    "name": "ipython",
    "version": 3
   },
   "file_extension": ".py",
   "mimetype": "text/x-python",
   "name": "python",
   "nbconvert_exporter": "python",
   "pygments_lexer": "ipython3",
   "version": "3.6.4"
  }
 },
 "nbformat": 4,
 "nbformat_minor": 2
}
